{
  "cells": [
    {
      "cell_type": "markdown",
      "metadata": {
        "colab_type": "text",
        "id": "view-in-github"
      },
      "source": [
        "<a href=\"https://colab.research.google.com/github/gcesconcordia/judging-aggregator-tool/blob/main/lord_of_the_lazies.ipynb\" target=\"_parent\"><img src=\"https://colab.research.google.com/assets/colab-badge.svg\" alt=\"Open In Colab\"/></a>"
      ]
    },
    {
      "cell_type": "markdown",
      "metadata": {
        "id": "gJ1He_eXcQTv"
      },
      "source": [
        "# Lord of the Lazies\n",
        "\n",
        "Author: Anh H Nguyen\n",
        "\n",
        "## What it does\n",
        "\n",
        "Generate raw formulas to be copy and pasted into cells of a **master judging sheet** that aggregates and calculates the average scores of judging panels from **individual judging sheet**.\n",
        "\n",
        "## Prerequisites\n",
        "\n",
        "Have access to the Google Sheets you are intended to put the formulas in.\n",
        "\n",
        "## How to use\n",
        "\n",
        "- Look at the cols (A B C...) and the one row number (69) containing the total score in an individual judging sheet.\n",
        "- Build a list of column names (see existing code)\n",
        "- Copy each of the individual judging sheet url and build a list of them (see existing code)\n",
        "- Run and enjoy the fruit of your laziness\n",
        "\n",
        "## WARNING\n",
        "\n",
        "YOU STILL HAVE TO MANUALLY COPY THEM INTO THE MASTER JUDGING SHEET ROWS.\n",
        "\n",
        "SUGGESTION: DON'T CARE ABOUT GETTING THE RIGHT JUDGE ORDER, JUST NEED TO GET THE CORRECT PANEL. FIX THE JUDGE ORDER LATER!\n",
        "\n",
        "IF SOMEONE HAS TIME AND/OR BIGGER BRAIN THAN MINE, AUTOMATE THAT PROCESS AS WELL!!"
      ]
    },
    {
      "cell_type": "code",
      "execution_count": null,
      "metadata": {
        "id": "2imLd3uR8Htp"
      },
      "outputs": [],
      "source": [
        "cols = ['K', 'L', 'M', 'N', 'O', 'P', 'Q']\n",
        "urls = [\n",
        "    'https://docs.google.com/spreadsheets/d/***REMOVED***',\n",
        "    'https://docs.google.com/spreadsheets/d/***REMOVED***',\n",
        "    'https://docs.google.com/spreadsheets/d/***REMOVED***',\n",
        "    'https://docs.google.com/spreadsheets/d/***REMOVED***',\n",
        "    'https://docs.google.com/spreadsheets/d/***REMOVED***',\n",
        "    'https://docs.google.com/spreadsheets/d/***REMOVED***',\n",
        "    'https://docs.google.com/spreadsheets/d/***REMOVED***',\n",
        "    'https://docs.google.com/spreadsheets/d/***REMOVED***',\n",
        "    'https://docs.google.com/spreadsheets/d/***REMOVED***',\n",
        "    'https://docs.google.com/spreadsheets/d/***REMOVED***',\n",
        "    'https://docs.google.com/spreadsheets/d/***REMOVED***',\n",
        "    'https://docs.google.com/spreadsheets/d/***REMOVED***',\n",
        "    'https://docs.google.com/spreadsheets/d/***REMOVED***',\n",
        "    'https://docs.google.com/spreadsheets/d/***REMOVED***',\n",
        "    'https://docs.google.com/spreadsheets/d/***REMOVED***'\n",
        "]"
      ]
    },
    {
      "cell_type": "code",
      "execution_count": null,
      "metadata": {
        "colab": {
          "base_uri": "https://localhost:8080/"
        },
        "id": "tvZKAuZ9-b3x",
        "outputId": "a0bfc3ca-dfe8-47fc-ffae-17a16db85fce"
      },
      "outputs": [],
      "source": [
        "counter = 1\n",
        "for url in urls:\n",
        "    print(f\"judge #{counter}\")\n",
        "    for col in cols:\n",
        "        print(f'=IMPORTRANGE(\"{url}\", \"sheet1!{row}23\")')\n",
        "    counter += 1"
      ]
    }
  ],
  "metadata": {
    "colab": {
      "authorship_tag": "ABX9TyMfGpIkkBTjmKFu7j0htKrR",
      "include_colab_link": true,
      "provenance": []
    },
    "kernelspec": {
      "display_name": "Python 3",
      "name": "python3"
    },
    "language_info": {
      "name": "python"
    }
  },
  "nbformat": 4,
  "nbformat_minor": 0
}
