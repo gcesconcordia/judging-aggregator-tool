{
  "nbformat": 4,
  "nbformat_minor": 0,
  "metadata": {
    "colab": {
      "provenance": [],
      "authorship_tag": "ABX9TyMfGpIkkBTjmKFu7j0htKrR",
      "include_colab_link": true
    },
    "kernelspec": {
      "name": "python3",
      "display_name": "Python 3"
    },
    "language_info": {
      "name": "python"
    }
  },
  "cells": [
    {
      "cell_type": "markdown",
      "metadata": {
        "id": "view-in-github",
        "colab_type": "text"
      },
      "source": [
        "<a href=\"https://colab.research.google.com/github/gcesconcordia/judging-aggregator-tool/blob/main/lord_of_the_lazies.ipynb\" target=\"_parent\"><img src=\"https://colab.research.google.com/assets/colab-badge.svg\" alt=\"Open In Colab\"/></a>"
      ]
    },
    {
      "cell_type": "markdown",
      "source": [
        "# Lord of the Lazies\n",
        "\n",
        "Author: Anh H Nguyen\n",
        "\n",
        "## What it does\n",
        "\n",
        "Generate raw formulas to be copy and pasted into cells of a **master judging sheet** that aggregates and calculates the average scores of judging panels from **individual judging sheet**.\n",
        "\n",
        "## How to use\n",
        "\n",
        "- Look at the cols (A B C...) and the one row number (69) containing the total score in an individual judging sheet.\n",
        "- Build a list of column names (see existing code)\n",
        "- Copy each of the individual judging sheet url and build a list of them (see existing code)\n",
        "- Run and enjoy the fruit of your laziness\n",
        "\n",
        "## WARNING\n",
        "\n",
        "YOU STILL HAVE TO MANUALLY COPY THEM INTO THE MASTER JUDGING SHEET ROWS.\n",
        "\n",
        "SUGGESTION: DON'T CARE ABOUT GETTING THE RIGHT JUDGE ORDER, JUST NEED TO GET THE CORRECT PANEL. FIX THE JUDGE ORDER LATER!\n",
        "\n",
        "IF SOMEONE HAS TIME AND/OR BIGGER BRAIN THAN MINE, AUTOMATE THAT PROCESS AS WELL!!\n",
        "\n"
      ],
      "metadata": {
        "id": "gJ1He_eXcQTv"
      }
    },
    {
      "cell_type": "code",
      "execution_count": null,
      "metadata": {
        "id": "2imLd3uR8Htp"
      },
      "outputs": [],
      "source": [
        "cols = ['K', 'L', 'M', 'N', 'O', 'P', 'Q']\n",
        "urls = [\n",
        "    'https://docs.google.com/spreadsheets/d/***REMOVED***',\n",
        "    'https://docs.google.com/spreadsheets/d/***REMOVED***',\n",
        "    'https://docs.google.com/spreadsheets/d/***REMOVED***',\n",
        "    'https://docs.google.com/spreadsheets/d/***REMOVED***',\n",
        "    'https://docs.google.com/spreadsheets/d/***REMOVED***',\n",
        "    'https://docs.google.com/spreadsheets/d/***REMOVED***',\n",
        "    'https://docs.google.com/spreadsheets/d/***REMOVED***',\n",
        "    'https://docs.google.com/spreadsheets/d/***REMOVED***',\n",
        "    'https://docs.google.com/spreadsheets/d/***REMOVED***',\n",
        "    'https://docs.google.com/spreadsheets/d/***REMOVED***',\n",
        "    'https://docs.google.com/spreadsheets/d/***REMOVED***',\n",
        "    'https://docs.google.com/spreadsheets/d/***REMOVED***',\n",
        "    'https://docs.google.com/spreadsheets/d/***REMOVED***',\n",
        "    'https://docs.google.com/spreadsheets/d/***REMOVED***',\n",
        "    'https://docs.google.com/spreadsheets/d/***REMOVED***' # add imen\n",
        "]"
      ]
    },
    {
      "cell_type": "code",
      "source": [
        "counter = 1\n",
        "for url in urls:\n",
        "    print(f\"judge #{counter}\")\n",
        "    for col in cols:\n",
        "        print(f'=IMPORTRANGE(\"{url}\", \"sheet1!{row}23\")')\n",
        "    counter += 1"
      ],
      "metadata": {
        "colab": {
          "base_uri": "https://localhost:8080/"
        },
        "id": "tvZKAuZ9-b3x",
        "outputId": "a0bfc3ca-dfe8-47fc-ffae-17a16db85fce"
      },
      "execution_count": null,
      "outputs": [
        {
          "output_type": "stream",
          "name": "stdout",
          "text": [
            "judge #1\n",
            "=IMPORTRANGE(\"https://docs.google.com/spreadsheets/d/***REMOVED***\", \"sheet1!K23\")\n",
            "=IMPORTRANGE(\"https://docs.google.com/spreadsheets/d/***REMOVED***\", \"sheet1!L23\")\n",
            "=IMPORTRANGE(\"https://docs.google.com/spreadsheets/d/***REMOVED***\", \"sheet1!M23\")\n",
            "=IMPORTRANGE(\"https://docs.google.com/spreadsheets/d/***REMOVED***\", \"sheet1!N23\")\n",
            "=IMPORTRANGE(\"https://docs.google.com/spreadsheets/d/***REMOVED***\", \"sheet1!O23\")\n",
            "=IMPORTRANGE(\"https://docs.google.com/spreadsheets/d/***REMOVED***\", \"sheet1!P23\")\n",
            "=IMPORTRANGE(\"https://docs.google.com/spreadsheets/d/***REMOVED***\", \"sheet1!Q23\")\n",
            "judge #2\n",
            "=IMPORTRANGE(\"https://docs.google.com/spreadsheets/d/***REMOVED***\", \"sheet1!K23\")\n",
            "=IMPORTRANGE(\"https://docs.google.com/spreadsheets/d/***REMOVED***\", \"sheet1!L23\")\n",
            "=IMPORTRANGE(\"https://docs.google.com/spreadsheets/d/***REMOVED***\", \"sheet1!M23\")\n",
            "=IMPORTRANGE(\"https://docs.google.com/spreadsheets/d/***REMOVED***\", \"sheet1!N23\")\n",
            "=IMPORTRANGE(\"https://docs.google.com/spreadsheets/d/***REMOVED***\", \"sheet1!O23\")\n",
            "=IMPORTRANGE(\"https://docs.google.com/spreadsheets/d/***REMOVED***\", \"sheet1!P23\")\n",
            "=IMPORTRANGE(\"https://docs.google.com/spreadsheets/d/***REMOVED***\", \"sheet1!Q23\")\n",
            "judge #3\n",
            "=IMPORTRANGE(\"https://docs.google.com/spreadsheets/d/***REMOVED***\", \"sheet1!K23\")\n",
            "=IMPORTRANGE(\"https://docs.google.com/spreadsheets/d/***REMOVED***\", \"sheet1!L23\")\n",
            "=IMPORTRANGE(\"https://docs.google.com/spreadsheets/d/***REMOVED***\", \"sheet1!M23\")\n",
            "=IMPORTRANGE(\"https://docs.google.com/spreadsheets/d/***REMOVED***\", \"sheet1!N23\")\n",
            "=IMPORTRANGE(\"https://docs.google.com/spreadsheets/d/***REMOVED***\", \"sheet1!O23\")\n",
            "=IMPORTRANGE(\"https://docs.google.com/spreadsheets/d/***REMOVED***\", \"sheet1!P23\")\n",
            "=IMPORTRANGE(\"https://docs.google.com/spreadsheets/d/***REMOVED***\", \"sheet1!Q23\")\n",
            "judge #4\n",
            "=IMPORTRANGE(\"https://docs.google.com/spreadsheets/d/***REMOVED***\", \"sheet1!K23\")\n",
            "=IMPORTRANGE(\"https://docs.google.com/spreadsheets/d/***REMOVED***\", \"sheet1!L23\")\n",
            "=IMPORTRANGE(\"https://docs.google.com/spreadsheets/d/***REMOVED***\", \"sheet1!M23\")\n",
            "=IMPORTRANGE(\"https://docs.google.com/spreadsheets/d/***REMOVED***\", \"sheet1!N23\")\n",
            "=IMPORTRANGE(\"https://docs.google.com/spreadsheets/d/***REMOVED***\", \"sheet1!O23\")\n",
            "=IMPORTRANGE(\"https://docs.google.com/spreadsheets/d/***REMOVED***\", \"sheet1!P23\")\n",
            "=IMPORTRANGE(\"https://docs.google.com/spreadsheets/d/***REMOVED***\", \"sheet1!Q23\")\n",
            "judge #5\n",
            "=IMPORTRANGE(\"https://docs.google.com/spreadsheets/d/***REMOVED***\", \"sheet1!K23\")\n",
            "=IMPORTRANGE(\"https://docs.google.com/spreadsheets/d/***REMOVED***\", \"sheet1!L23\")\n",
            "=IMPORTRANGE(\"https://docs.google.com/spreadsheets/d/***REMOVED***\", \"sheet1!M23\")\n",
            "=IMPORTRANGE(\"https://docs.google.com/spreadsheets/d/***REMOVED***\", \"sheet1!N23\")\n",
            "=IMPORTRANGE(\"https://docs.google.com/spreadsheets/d/***REMOVED***\", \"sheet1!O23\")\n",
            "=IMPORTRANGE(\"https://docs.google.com/spreadsheets/d/***REMOVED***\", \"sheet1!P23\")\n",
            "=IMPORTRANGE(\"https://docs.google.com/spreadsheets/d/***REMOVED***\", \"sheet1!Q23\")\n",
            "judge #6\n",
            "=IMPORTRANGE(\"https://docs.google.com/spreadsheets/d/***REMOVED***\", \"sheet1!K23\")\n",
            "=IMPORTRANGE(\"https://docs.google.com/spreadsheets/d/***REMOVED***\", \"sheet1!L23\")\n",
            "=IMPORTRANGE(\"https://docs.google.com/spreadsheets/d/***REMOVED***\", \"sheet1!M23\")\n",
            "=IMPORTRANGE(\"https://docs.google.com/spreadsheets/d/***REMOVED***\", \"sheet1!N23\")\n",
            "=IMPORTRANGE(\"https://docs.google.com/spreadsheets/d/***REMOVED***\", \"sheet1!O23\")\n",
            "=IMPORTRANGE(\"https://docs.google.com/spreadsheets/d/***REMOVED***\", \"sheet1!P23\")\n",
            "=IMPORTRANGE(\"https://docs.google.com/spreadsheets/d/***REMOVED***\", \"sheet1!Q23\")\n",
            "judge #7\n",
            "=IMPORTRANGE(\"https://docs.google.com/spreadsheets/d/***REMOVED***\", \"sheet1!K23\")\n",
            "=IMPORTRANGE(\"https://docs.google.com/spreadsheets/d/***REMOVED***\", \"sheet1!L23\")\n",
            "=IMPORTRANGE(\"https://docs.google.com/spreadsheets/d/***REMOVED***\", \"sheet1!M23\")\n",
            "=IMPORTRANGE(\"https://docs.google.com/spreadsheets/d/***REMOVED***\", \"sheet1!N23\")\n",
            "=IMPORTRANGE(\"https://docs.google.com/spreadsheets/d/***REMOVED***\", \"sheet1!O23\")\n",
            "=IMPORTRANGE(\"https://docs.google.com/spreadsheets/d/***REMOVED***\", \"sheet1!P23\")\n",
            "=IMPORTRANGE(\"https://docs.google.com/spreadsheets/d/***REMOVED***\", \"sheet1!Q23\")\n",
            "judge #8\n",
            "=IMPORTRANGE(\"https://docs.google.com/spreadsheets/d/***REMOVED***\", \"sheet1!K23\")\n",
            "=IMPORTRANGE(\"https://docs.google.com/spreadsheets/d/***REMOVED***\", \"sheet1!L23\")\n",
            "=IMPORTRANGE(\"https://docs.google.com/spreadsheets/d/***REMOVED***\", \"sheet1!M23\")\n",
            "=IMPORTRANGE(\"https://docs.google.com/spreadsheets/d/***REMOVED***\", \"sheet1!N23\")\n",
            "=IMPORTRANGE(\"https://docs.google.com/spreadsheets/d/***REMOVED***\", \"sheet1!O23\")\n",
            "=IMPORTRANGE(\"https://docs.google.com/spreadsheets/d/***REMOVED***\", \"sheet1!P23\")\n",
            "=IMPORTRANGE(\"https://docs.google.com/spreadsheets/d/***REMOVED***\", \"sheet1!Q23\")\n",
            "judge #9\n",
            "=IMPORTRANGE(\"https://docs.google.com/spreadsheets/d/***REMOVED***\", \"sheet1!K23\")\n",
            "=IMPORTRANGE(\"https://docs.google.com/spreadsheets/d/***REMOVED***\", \"sheet1!L23\")\n",
            "=IMPORTRANGE(\"https://docs.google.com/spreadsheets/d/***REMOVED***\", \"sheet1!M23\")\n",
            "=IMPORTRANGE(\"https://docs.google.com/spreadsheets/d/***REMOVED***\", \"sheet1!N23\")\n",
            "=IMPORTRANGE(\"https://docs.google.com/spreadsheets/d/***REMOVED***\", \"sheet1!O23\")\n",
            "=IMPORTRANGE(\"https://docs.google.com/spreadsheets/d/***REMOVED***\", \"sheet1!P23\")\n",
            "=IMPORTRANGE(\"https://docs.google.com/spreadsheets/d/***REMOVED***\", \"sheet1!Q23\")\n",
            "judge #10\n",
            "=IMPORTRANGE(\"https://docs.google.com/spreadsheets/d/***REMOVED***\", \"sheet1!K23\")\n",
            "=IMPORTRANGE(\"https://docs.google.com/spreadsheets/d/***REMOVED***\", \"sheet1!L23\")\n",
            "=IMPORTRANGE(\"https://docs.google.com/spreadsheets/d/***REMOVED***\", \"sheet1!M23\")\n",
            "=IMPORTRANGE(\"https://docs.google.com/spreadsheets/d/***REMOVED***\", \"sheet1!N23\")\n",
            "=IMPORTRANGE(\"https://docs.google.com/spreadsheets/d/***REMOVED***\", \"sheet1!O23\")\n",
            "=IMPORTRANGE(\"https://docs.google.com/spreadsheets/d/***REMOVED***\", \"sheet1!P23\")\n",
            "=IMPORTRANGE(\"https://docs.google.com/spreadsheets/d/***REMOVED***\", \"sheet1!Q23\")\n",
            "judge #11\n",
            "=IMPORTRANGE(\"https://docs.google.com/spreadsheets/d/***REMOVED***\", \"sheet1!K23\")\n",
            "=IMPORTRANGE(\"https://docs.google.com/spreadsheets/d/***REMOVED***\", \"sheet1!L23\")\n",
            "=IMPORTRANGE(\"https://docs.google.com/spreadsheets/d/***REMOVED***\", \"sheet1!M23\")\n",
            "=IMPORTRANGE(\"https://docs.google.com/spreadsheets/d/***REMOVED***\", \"sheet1!N23\")\n",
            "=IMPORTRANGE(\"https://docs.google.com/spreadsheets/d/***REMOVED***\", \"sheet1!O23\")\n",
            "=IMPORTRANGE(\"https://docs.google.com/spreadsheets/d/***REMOVED***\", \"sheet1!P23\")\n",
            "=IMPORTRANGE(\"https://docs.google.com/spreadsheets/d/***REMOVED***\", \"sheet1!Q23\")\n",
            "judge #12\n",
            "=IMPORTRANGE(\"https://docs.google.com/spreadsheets/d/***REMOVED***\", \"sheet1!K23\")\n",
            "=IMPORTRANGE(\"https://docs.google.com/spreadsheets/d/***REMOVED***\", \"sheet1!L23\")\n",
            "=IMPORTRANGE(\"https://docs.google.com/spreadsheets/d/***REMOVED***\", \"sheet1!M23\")\n",
            "=IMPORTRANGE(\"https://docs.google.com/spreadsheets/d/***REMOVED***\", \"sheet1!N23\")\n",
            "=IMPORTRANGE(\"https://docs.google.com/spreadsheets/d/***REMOVED***\", \"sheet1!O23\")\n",
            "=IMPORTRANGE(\"https://docs.google.com/spreadsheets/d/***REMOVED***\", \"sheet1!P23\")\n",
            "=IMPORTRANGE(\"https://docs.google.com/spreadsheets/d/***REMOVED***\", \"sheet1!Q23\")\n",
            "judge #13\n",
            "=IMPORTRANGE(\"https://docs.google.com/spreadsheets/d/***REMOVED***\", \"sheet1!K23\")\n",
            "=IMPORTRANGE(\"https://docs.google.com/spreadsheets/d/***REMOVED***\", \"sheet1!L23\")\n",
            "=IMPORTRANGE(\"https://docs.google.com/spreadsheets/d/***REMOVED***\", \"sheet1!M23\")\n",
            "=IMPORTRANGE(\"https://docs.google.com/spreadsheets/d/***REMOVED***\", \"sheet1!N23\")\n",
            "=IMPORTRANGE(\"https://docs.google.com/spreadsheets/d/***REMOVED***\", \"sheet1!O23\")\n",
            "=IMPORTRANGE(\"https://docs.google.com/spreadsheets/d/***REMOVED***\", \"sheet1!P23\")\n",
            "=IMPORTRANGE(\"https://docs.google.com/spreadsheets/d/***REMOVED***\", \"sheet1!Q23\")\n",
            "judge #14\n",
            "=IMPORTRANGE(\"https://docs.google.com/spreadsheets/d/***REMOVED***\", \"sheet1!K23\")\n",
            "=IMPORTRANGE(\"https://docs.google.com/spreadsheets/d/***REMOVED***\", \"sheet1!L23\")\n",
            "=IMPORTRANGE(\"https://docs.google.com/spreadsheets/d/***REMOVED***\", \"sheet1!M23\")\n",
            "=IMPORTRANGE(\"https://docs.google.com/spreadsheets/d/***REMOVED***\", \"sheet1!N23\")\n",
            "=IMPORTRANGE(\"https://docs.google.com/spreadsheets/d/***REMOVED***\", \"sheet1!O23\")\n",
            "=IMPORTRANGE(\"https://docs.google.com/spreadsheets/d/***REMOVED***\", \"sheet1!P23\")\n",
            "=IMPORTRANGE(\"https://docs.google.com/spreadsheets/d/***REMOVED***\", \"sheet1!Q23\")\n",
            "judge #15\n",
            "=IMPORTRANGE(\"https://docs.google.com/spreadsheets/d/***REMOVED***\", \"sheet1!K23\")\n",
            "=IMPORTRANGE(\"https://docs.google.com/spreadsheets/d/***REMOVED***\", \"sheet1!L23\")\n",
            "=IMPORTRANGE(\"https://docs.google.com/spreadsheets/d/***REMOVED***\", \"sheet1!M23\")\n",
            "=IMPORTRANGE(\"https://docs.google.com/spreadsheets/d/***REMOVED***\", \"sheet1!N23\")\n",
            "=IMPORTRANGE(\"https://docs.google.com/spreadsheets/d/***REMOVED***\", \"sheet1!O23\")\n",
            "=IMPORTRANGE(\"https://docs.google.com/spreadsheets/d/***REMOVED***\", \"sheet1!P23\")\n",
            "=IMPORTRANGE(\"https://docs.google.com/spreadsheets/d/***REMOVED***\", \"sheet1!Q23\")\n"
          ]
        }
      ]
    },
    {
      "cell_type": "code",
      "source": [],
      "metadata": {
        "id": "D28MS3J4-1kv"
      },
      "execution_count": null,
      "outputs": []
    }
  ]
}